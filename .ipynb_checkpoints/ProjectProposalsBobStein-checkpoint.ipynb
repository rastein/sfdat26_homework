{
 "cells": [
  {
   "cell_type": "markdown",
   "metadata": {},
   "source": [
    "Proposal 1:\n",
    "The language of twitter DT twitter followers\n",
    "Most common words, hashtags, likes, retweets\n",
    "Correlation of language compared to tweets by DT\n",
    "Correlation between language used by DT and its dissemination through followers\n",
    "\n",
    "Hypothesis 1:\n",
    "There are several types of followers of DT on twitter.\n",
    "type 1: Media followers\n",
    "type 2: Bottle neckers\n",
    "type 3: Bots\n",
    "type 4: DT supporters\n",
    "type 5: Other?\n",
    "\n",
    "Based on study of the data, it will be possible to describe DT followers into several discrete categories.  This will be looked at by their tweets, both in relation to DT, and independent of DT.\n",
    "\n",
    "Hypothesis 2:\n",
    "There is a significant percentage of DT followers that are bots.\n",
    "\n",
    "Hypothesis 3:\n",
    "DT supporters will in themselves fall into several categories.  Is there a way of classifying them?\n",
    "Traditional GOP\n",
    "Alt Right\n",
    "Nativist\n",
    "\n",
    "\n",
    "\n"
   ]
  },
  {
   "cell_type": "markdown",
   "metadata": {},
   "source": [
    "Proposal 2:\n"
   ]
  }
 ],
 "metadata": {
  "kernelspec": {
   "display_name": "Python [sheldonstein]",
   "language": "python",
   "name": "Python [sheldonstein]"
  },
  "language_info": {
   "codemirror_mode": {
    "name": "ipython",
    "version": 2
   },
   "file_extension": ".py",
   "mimetype": "text/x-python",
   "name": "python",
   "nbconvert_exporter": "python",
   "pygments_lexer": "ipython2",
   "version": "2.7.12"
  }
 },
 "nbformat": 4,
 "nbformat_minor": 0
}
